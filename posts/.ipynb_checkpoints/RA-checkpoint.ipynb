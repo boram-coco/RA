{
 "cells": [
  {
   "cell_type": "raw",
   "id": "90793833-7483-4bdb-8553-cd6cc10634d6",
   "metadata": {},
   "source": [
    "---\n",
    "title: \"RA\"\n",
    "author: \"김보람\"\n",
    "date: \"02/26/2024\"\n",
    "---"
   ]
  },
  {
   "cell_type": "markdown",
   "id": "a69dbf31-5b66-4661-8a48-6ba7b85cf3cd",
   "metadata": {},
   "source": [
    "# 1"
   ]
  },
  {
   "cell_type": "markdown",
   "id": "99c51c46-668f-4f6b-86c1-ef2a4d3b7b8f",
   "metadata": {},
   "source": [
    "설명변수가 한 개인 단순선형회귀모형은 다음과 같이 정의한다."
   ]
  },
  {
   "cell_type": "markdown",
   "id": "fa4d2f92-4d72-4cb7-ab74-1c2755667b83",
   "metadata": {},
   "source": [
    "## (1)"
   ]
  },
  {
   "cell_type": "markdown",
   "id": "8b9b029a-01cf-4b48-9ef2-0d0565ba20d8",
   "metadata": {},
   "source": [
    "$\\beta_0, \\beta_1$에 대한 최소제곱추정량 LSE $\\hat \\beta_0, \\hat \\beta_1$ 을 구하여라"
   ]
  },
  {
   "cell_type": "markdown",
   "id": "a6313af8-a5ee-4411-b436-3cbc6eb53e1e",
   "metadata": {},
   "source": [
    "## (2)"
   ]
  },
  {
   "cell_type": "markdown",
   "id": "a55669d6-2d4e-4413-b45b-4cbf0e89d927",
   "metadata": {},
   "source": [
    "$E(\\hat \\beta_1)$과 $Var(\\hat \\beta_1)$를 구하여라"
   ]
  },
  {
   "cell_type": "markdown",
   "id": "dcfa201f-f180-468f-8e3d-cef967581b60",
   "metadata": {},
   "source": [
    "# 2"
   ]
  },
  {
   "cell_type": "markdown",
   "id": "4cdc3a36-8db4-4e68-adb4-aaa748181f92",
   "metadata": {},
   "source": [
    "중회귀모형 $y=X \\beta + \\epsilon, \\epsilon \\sim N(0_n, I_n \\sigma^2)$일 때, 적합된 모형 $\\hat y = X \\hat \\beta$에 대하여 다음을 증명하여라. \n",
    "\n",
    "단 $y=(y_1, \\dots, y_n)^T, O_n = (0, \\dots, 0)^T, I_n$는 $n\\times n$단위행렬, $X$는 $n \\times (p+1)$행렬이고, $\\text{rank(X)=p+1}$이다.\n",
    "\n",
    "그리고 $e=y-\\hat y$이다."
   ]
  },
  {
   "cell_type": "markdown",
   "id": "72e697b0-840b-45e6-a935-c456219e8935",
   "metadata": {},
   "source": [
    "## (1)"
   ]
  },
  {
   "cell_type": "markdown",
   "id": "33ac707f-c75a-4197-a55b-186534e1d718",
   "metadata": {},
   "source": [
    "$\\sum_{j=1}^n Var(\\hat y_j) = (p+1)\\sigma^2$"
   ]
  },
  {
   "cell_type": "markdown",
   "id": "35502f55-64a9-46ff-bf9c-bafec3f7a933",
   "metadata": {},
   "source": [
    "## (2)"
   ]
  },
  {
   "cell_type": "markdown",
   "id": "e6b323c0-0429-4b80-889d-3300951e43bc",
   "metadata": {},
   "source": [
    "$Cov(e,y) = \\sigma^2[I_n - X(X^TX)^{-1}X^T]$"
   ]
  },
  {
   "cell_type": "markdown",
   "id": "7b26fa0d-d049-4a9a-93a6-1963bd941c69",
   "metadata": {},
   "source": [
    "## (3)"
   ]
  },
  {
   "cell_type": "markdown",
   "id": "1f561ffc-19b6-463e-a173-34e06725bf1e",
   "metadata": {},
   "source": [
    "$Cov(\\epsilon, \\hat \\beta) = \\sigma^2 X(X^T X)^{-1}$"
   ]
  },
  {
   "cell_type": "markdown",
   "id": "6c5fd259-dfae-49b9-b232-cc824114ebf6",
   "metadata": {},
   "source": [
    "## (4)"
   ]
  },
  {
   "cell_type": "markdown",
   "id": "9be27cfb-4c18-4752-aea9-da28046d793d",
   "metadata": {},
   "source": [
    "$E(SSE) = \\sigma^2 (n-p-1)$"
   ]
  },
  {
   "cell_type": "markdown",
   "id": "da249511-33f8-46b2-97cb-9f54fc34b5c9",
   "metadata": {},
   "source": [
    "# 3"
   ]
  },
  {
   "cell_type": "markdown",
   "id": "e84ee6ac-30a6-4ff1-a7ba-c9dea16f5aaa",
   "metadata": {},
   "source": [
    "혈압이 체중과 성별에 따라 어떻게 달라지는가에 대한 모형을 적합하려고 한다. 주어진 데이터가 다음과 같을 때 아래의 물음에 답하라"
   ]
  },
  {
   "cell_type": "markdown",
   "id": "fdc0f242-90b7-46da-a985-cd2af2c60c9e",
   "metadata": {},
   "source": [
    "|혈압(y)|120|130|130|155|149|150|10|125|135|140|\n",
    "| ----- |--|  --|--|----|---|---|--|--|----|---|\n",
    "|체중$(x_1)$|70|60|88|101|80|98|90|77|65|70|\n",
    "|성별$(x_2)$|남|여|남|여|여|남|여|남|여|여|"
   ]
  },
  {
   "cell_type": "markdown",
   "id": "7f6dc8d0-f7ab-4fe6-a6f6-b7e687f3316a",
   "metadata": {},
   "source": [
    "## (1)"
   ]
  },
  {
   "cell_type": "markdown",
   "id": "9d4ba028-1ade-42fd-9ef3-f6912f75f987",
   "metadata": {},
   "source": [
    "위의 데이터에 대하여 혈압을 예측하기 위해, 설명변수가 2개인 중회귀 모형을 적합하려고 한다. 교호작용을 포함하는 모형을 정의하고 가설을 기술하시오."
   ]
  },
  {
   "cell_type": "markdown",
   "id": "4e44a0b8-5ab2-42fd-a1b5-9282add1e76e",
   "metadata": {},
   "source": [
    "## (2)"
   ]
  },
  {
   "cell_type": "markdown",
   "id": "5414030e-b6ba-41ce-8586-6e70669cac13",
   "metadata": {},
   "source": [
    "위의 모형을 행렬 형태로 표현하시오. $(X, y, \\beta, \\epsilon$을 정확하게 표현)"
   ]
  },
  {
   "cell_type": "markdown",
   "id": "a2aa307e-1bc5-462b-8afd-5447d9d19441",
   "metadata": {},
   "source": [
    "## (3)"
   ]
  },
  {
   "cell_type": "markdown",
   "id": "3819027b-282e-42df-afd0-9ae4e878372e",
   "metadata": {},
   "source": [
    "각각의 회귀 계수의 의미를 설명하시오"
   ]
  },
  {
   "cell_type": "code",
   "execution_count": null,
   "id": "5e739dbe-8d3e-491b-aaec-95568d5089b3",
   "metadata": {},
   "outputs": [],
   "source": []
  }
 ],
 "metadata": {
  "kernelspec": {
   "display_name": "Python 3 (ipykernel)",
   "language": "python",
   "name": "python3"
  },
  "language_info": {
   "codemirror_mode": {
    "name": "ipython",
    "version": 3
   },
   "file_extension": ".py",
   "mimetype": "text/x-python",
   "name": "python",
   "nbconvert_exporter": "python",
   "pygments_lexer": "ipython3",
   "version": "3.8.18"
  }
 },
 "nbformat": 4,
 "nbformat_minor": 5
}
