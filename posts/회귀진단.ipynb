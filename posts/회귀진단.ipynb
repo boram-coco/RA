{
 "cells": [
  {
   "cell_type": "raw",
   "id": "2a82a64f-859e-493f-b381-b4614ad5aa67",
   "metadata": {},
   "source": [
    "---\n",
    "title: \"[ARA] 회귀진단\"\n",
    "author: \"김보람\"\n",
    "date: \"03/05/2024\"\n",
    "---"
   ]
  },
  {
   "cell_type": "markdown",
   "id": "6af56496-8825-4b0a-a346-df24c84cea28",
   "metadata": {},
   "source": [
    "# leveragepoint"
   ]
  },
  {
   "cell_type": "markdown",
   "id": "5491e507-ab13-4a5f-959a-763f4c8e52de",
   "metadata": {},
   "source": [
    "$h_{ii} > 2 \\bar h \\ \\text{or} \\  3 \\bar h$ 이면 leverage"
   ]
  },
  {
   "cell_type": "markdown",
   "id": "ed08980e-d338-4dc3-8f85-3332fb117d63",
   "metadata": {},
   "source": [
    "$\\bar h = \\dfrac{p+1}{n}$"
   ]
  },
  {
   "cell_type": "markdown",
   "id": "bb538b21-9f19-44c4-b015-c8e1d66a463d",
   "metadata": {},
   "source": [
    "# 이상점"
   ]
  },
  {
   "cell_type": "markdown",
   "id": "13f21cdb-39e1-446a-ba58-dfdcb749e3fb",
   "metadata": {},
   "source": [
    "외적스튜던트화 잔차 $r_i^*$\n",
    "\n",
    "$|r_i^*| \\geq t_{\\alpha/2}(n-p-2)$이면 이상점"
   ]
  },
  {
   "cell_type": "markdown",
   "id": "a35a52f9-a710-4b7e-8d0c-e3c176c55832",
   "metadata": {},
   "source": [
    "# 영향점"
   ]
  },
  {
   "cell_type": "markdown",
   "id": "7fd59020-48b8-40d7-bd28-e0c156c85a0f",
   "metadata": {},
   "source": [
    "1. $\\text{|DIFFITS(i)|} \\geq 2 \\sqrt{\\dfrac{p+1}{n-p-1}}$"
   ]
  },
  {
   "cell_type": "markdown",
   "id": "0ba1d9b0-e62a-4994-bd31-f8469026d929",
   "metadata": {},
   "source": [
    "2. Cook's distance\n",
    "\n",
    "$\\text{D(i)} \\geq F_{0.5}(p+1,n-p-1)$"
   ]
  },
  {
   "cell_type": "markdown",
   "id": "3dfb4b8d-2569-45cf-9428-999398af6b2b",
   "metadata": {},
   "source": [
    "3. COVRATIO\n",
    "\n",
    "$\\text{|COVRATIO(i)}-1| \\geq \\dfrac{3(p+1)}{n}$"
   ]
  },
  {
   "cell_type": "code",
   "execution_count": null,
   "id": "033b93ad-a22e-40cd-8294-d7aa1d0902c6",
   "metadata": {},
   "outputs": [],
   "source": []
  }
 ],
 "metadata": {
  "kernelspec": {
   "display_name": "Python 3 (ipykernel)",
   "language": "python",
   "name": "python3"
  },
  "language_info": {
   "codemirror_mode": {
    "name": "ipython",
    "version": 3
   },
   "file_extension": ".py",
   "mimetype": "text/x-python",
   "name": "python",
   "nbconvert_exporter": "python",
   "pygments_lexer": "ipython3",
   "version": "3.8.18"
  }
 },
 "nbformat": 4,
 "nbformat_minor": 5
}
